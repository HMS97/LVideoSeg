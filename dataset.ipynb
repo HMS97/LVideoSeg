{
 "cells": [
  {
   "cell_type": "code",
   "execution_count": 47,
   "metadata": {},
   "outputs": [],
   "source": [
    "import os\n",
    "import torch\n",
    "import json\n",
    "from torch.utils.data import Dataset\n",
    "from torchvision.io import read_image\n",
    "from torch.nn.functional import one_hot\n",
    "from path import Path\n",
    "\n",
    "class VideoDataset(Dataset):\n",
    "    def __init__(self, root_dir):\n",
    "        self.root_dirs = Path(root_dir).dirs()\n",
    "        self.videos = [i for i in self.root_dirs]\n",
    "    def __len__(self):\n",
    "        return len(self.videos)\n",
    "    \n",
    "    def __getitem__(self, idx):\n",
    "        \n",
    "        data = {}        \n",
    "        frames =  [read_image(i) for i in  self.videos[idx].files('*.jpg')]\n",
    "        frames = [torch.nn.functional.interpolate(i.unsqueeze(0), size=256).squeeze(0) for i in frames]\n",
    "        with open(os.path.join(self.videos[idx],'frame_data.json'), 'r') as f: # open the json file\n",
    "            video_data = json.load(f)\n",
    "        video_start_points = video_data['video_start_points']\n",
    "        labels = [1 if i in video_start_points else 0 for i in range(len(frames))]\n",
    "        \n",
    "        data['frames'] = torch.stack(frames)\n",
    "        data['labels'] = torch.tensor(labels)\n",
    "        data['video_start_points'] = video_start_points\n",
    "        data['path'] = self.videos[idx]\n",
    "        return data"
   ]
  },
  {
   "cell_type": "code",
   "execution_count": 48,
   "metadata": {},
   "outputs": [],
   "source": [
    "dataset = VideoDataset( root_dir='/mnt/drive1/hsun/videoSeg/data/video_datasets/CondensedMovies/new_videos')\n",
    "dataloader = torch.utils.data.DataLoader(dataset, batch_size=1, shuffle=True, pin_memory=True, num_workers=8)\n"
   ]
  },
  {
   "cell_type": "code",
   "execution_count": 50,
   "metadata": {},
   "outputs": [],
   "source": [
    "data = next(iter(dataloader))"
   ]
  },
  {
   "cell_type": "code",
   "execution_count": 51,
   "metadata": {},
   "outputs": [
    {
     "data": {
      "text/plain": [
       "(torch.Size([1, 202, 3, 256, 256]),\n",
       " torch.Size([1, 202]),\n",
       " [tensor([83])],\n",
       " [Path('/mnt/drive1/hsun/videoSeg/data/video_datasets/CondensedMovies/new_videos/1214')])"
      ]
     },
     "execution_count": 51,
     "metadata": {},
     "output_type": "execute_result"
    }
   ],
   "source": [
    "data['frames'].shape, data['labels'].shape, data['video_start_points'], data['path']"
   ]
  },
  {
   "cell_type": "code",
   "execution_count": null,
   "metadata": {},
   "outputs": [],
   "source": []
  }
 ],
 "metadata": {
  "kernelspec": {
   "display_name": "torch2",
   "language": "python",
   "name": "python3"
  },
  "language_info": {
   "codemirror_mode": {
    "name": "ipython",
    "version": 3
   },
   "file_extension": ".py",
   "mimetype": "text/x-python",
   "name": "python",
   "nbconvert_exporter": "python",
   "pygments_lexer": "ipython3",
   "version": "3.10.0"
  },
  "orig_nbformat": 4
 },
 "nbformat": 4,
 "nbformat_minor": 2
}
